{
 "cells": [
  {
   "attachments": {},
   "cell_type": "markdown",
   "metadata": {},
   "source": [
    "# 📑 Tutorials for PyPOTS Clustering Models"
   ]
  },
  {
   "cell_type": "markdown",
   "metadata": {},
   "source": [
    "## 📀 Preparing the **PhysioNet-2012** dataset for this tutorial"
   ]
  },
  {
   "cell_type": "code",
   "execution_count": 1,
   "metadata": {},
   "outputs": [
    {
     "name": "stderr",
     "output_type": "stream",
     "text": [
      "2023-04-29 08:42:14 [INFO]: Loading the dataset physionet_2012 with TSDB (https://github.com/WenjieDu/Time_Series_Database)...\n",
      "2023-04-29 08:42:14 [INFO]: Starting preprocessing physionet_2012...\n"
     ]
    },
    {
     "name": "stdout",
     "output_type": "stream",
     "text": [
      "Dataset physionet_2012 has already been downloaded. Processing directly...\n",
      "Dataset physionet_2012 has already been cached. Loading from cache directly...\n",
      "Loaded successfully!\n",
      "dict_keys(['n_classes', 'n_steps', 'n_features', 'train_X', 'train_y', 'val_X', 'val_y', 'test_X', 'test_y', 'scaler'])\n"
     ]
    }
   ],
   "source": [
    "from pypots.data.generating import gene_physionet2012\n",
    "\n",
    "# Load the PhysioNet-2012 dataset, disable artificially-missing values for evaluation\n",
    "physionet2012_dataset = gene_physionet2012(artificially_missing=False)\n",
    "\n",
    "# Take a look at the generated PhysioNet-2012 dataset, you'll find that everything has been prepared for you,\n",
    "# data splitting, normalization, additional artificially-missing values for evaluation, etc.\n",
    "print(physionet2012_dataset.keys())\n"
   ]
  },
  {
   "cell_type": "code",
   "execution_count": 2,
   "metadata": {},
   "outputs": [],
   "source": [
    "# Assemble the datasets for training, validating, and testing.\n",
    "import numpy as np\n",
    "\n",
    "# don't need validation set\n",
    "dataset_for_training = {\n",
    "    \"X\": np.concatenate([physionet2012_dataset['train_X'], physionet2012_dataset['val_X']], axis=0),\n",
    "    \"y\": np.concatenate([physionet2012_dataset['train_y'], physionet2012_dataset['val_y']], axis=0),\n",
    "}\n",
    "\n",
    "dataset_for_testing = {\n",
    "    \"X\": physionet2012_dataset['test_X'],\n",
    "    \"y\": physionet2012_dataset['test_y'],\n",
    "}\n"
   ]
  },
  {
   "attachments": {},
   "cell_type": "markdown",
   "metadata": {},
   "source": [
    "## 🚀 An exmaple of **CRLI** for clustering"
   ]
  },
  {
   "cell_type": "code",
   "execution_count": 3,
   "metadata": {},
   "outputs": [
    {
     "name": "stderr",
     "output_type": "stream",
     "text": [
      "2023-04-28 19:13:11 [INFO]: No given device, using default device: cpu\n",
      "2023-04-28 19:13:11 [INFO]: saving_path is set as tutorial_results/clustering/crli, the trained model will be saved to tutorial_results/clustering/crli/20230428_T191311, the tensorboard file will be saved to tutorial_results/clustering/crli/20230428_T191311/tensorboard\n",
      "2023-04-28 19:13:11 [INFO]: Model initialized successfully with the number of trainable parameters: 3136324\n"
     ]
    }
   ],
   "source": [
    "from pypots.clustering import CRLI\n",
    "\n",
    "# initialize the model\n",
    "crli = CRLI(\n",
    "    n_steps=physionet2012_dataset[\"n_steps\"],\n",
    "    n_features=physionet2012_dataset[\"n_features\"],\n",
    "    n_clusters=physionet2012_dataset[\"n_classes\"],\n",
    "    n_generator_layers=2,\n",
    "    rnn_hidden_size=256,\n",
    "    epochs=10,  # here we set epochs=10 for a quick demo, you can set it to 100 or more for better performance\n",
    "    patience=5,  # here we set patience=5 to early stop the training if the evaluting loss doesn't decrease for 5 epoches. You can leave it to defualt as None to disable early stopping.\n",
    "    learning_rate=1e-3,\n",
    "    # device='cpu', # just leave it to default, PyPOTS will automatically assign the best device for you.\n",
    "    # Set it to 'cpu' if you don't have CUDA devices. You can also set it to 'cuda:0' or 'cuda:1' if you have multiple CUDA devices.\n",
    "    saving_path=\"tutorial_results/clustering/crli\",  # set the path for saving tensorboard files\n",
    ")\n"
   ]
  },
  {
   "cell_type": "code",
   "execution_count": 4,
   "metadata": {},
   "outputs": [
    {
     "name": "stderr",
     "output_type": "stream",
     "text": [
      "2023-04-28 19:19:27 [INFO]: epoch 0: training loss_generator 3.9668, train loss_discriminator 0.3903\n",
      "2023-04-28 19:25:25 [INFO]: epoch 1: training loss_generator 3.8344, train loss_discriminator 0.3697\n",
      "2023-04-28 19:31:20 [INFO]: epoch 2: training loss_generator 3.7827, train loss_discriminator 0.3618\n",
      "2023-04-28 19:37:30 [INFO]: epoch 3: training loss_generator 3.7704, train loss_discriminator 0.3438\n",
      "2023-04-28 19:43:18 [INFO]: epoch 4: training loss_generator 3.8988, train loss_discriminator 0.3212\n",
      "2023-04-28 19:49:06 [INFO]: epoch 5: training loss_generator 4.0449, train loss_discriminator 0.3032\n",
      "2023-04-28 19:53:03 [INFO]: epoch 6: training loss_generator 63.4697, train loss_discriminator 0.2943\n",
      "2023-04-28 19:56:35 [INFO]: epoch 7: training loss_generator 66.5428, train loss_discriminator 0.2810\n",
      "2023-04-28 20:00:10 [INFO]: epoch 8: training loss_generator 66.5228, train loss_discriminator 0.2687\n",
      "2023-04-28 20:00:10 [INFO]: Exceeded the training patience. Terminating the training procedure...\n",
      "2023-04-28 20:00:10 [INFO]: Finished training.\n",
      "2023-04-28 20:00:10 [INFO]: Saved successfully to tutorial_results/clustering/crli/20230428_T191311/CRLI.pypots.\n"
     ]
    }
   ],
   "source": [
    "# train the model on the training set, and validate it on the validating set to select the best model for testing in the next step\n",
    "crli.fit(train_set=dataset_for_training)\n"
   ]
  },
  {
   "cell_type": "code",
   "execution_count": 5,
   "metadata": {},
   "outputs": [
    {
     "name": "stderr",
     "output_type": "stream",
     "text": [
      "/home/codespace/.local/lib/python3.10/site-packages/sklearn/cluster/_kmeans.py:870: FutureWarning: The default value of `n_init` will change from 10 to 'auto' in 1.4. Set the value of `n_init` explicitly to suppress the warning\n",
      "  warnings.warn(\n"
     ]
    }
   ],
   "source": [
    "# the testing stage, impute the originally-missing values and artificially-missing values in the test set\n",
    "crli_prediction = crli.cluster(dataset_for_testing)\n"
   ]
  },
  {
   "cell_type": "code",
   "execution_count": 6,
   "metadata": {},
   "outputs": [
    {
     "name": "stdout",
     "output_type": "stream",
     "text": [
      "Testing clustering metrics: \n",
      "RI: 0.5360923422835675, \n",
      "CP: 0.8544620517097581,\n",
      "\n"
     ]
    }
   ],
   "source": [
    "from pypots.utils.metrics import cal_rand_index, cal_cluster_purity\n",
    "\n",
    "# calculate mean absolute error on the ground truth (artificially-missing values)\n",
    "RI = cal_rand_index(crli_prediction, dataset_for_testing[\"y\"])\n",
    "CP = cal_cluster_purity(crli_prediction, dataset_for_testing[\"y\"])\n",
    "\n",
    "print(\"Testing clustering metrics: \\n\"\n",
    "      f'RI: {RI}, \\n'\n",
    "      f'CP: {CP},\\n'\n",
    "      )\n"
   ]
  },
  {
   "attachments": {},
   "cell_type": "markdown",
   "metadata": {},
   "source": [
    "## 🚀 An exmaple of **VaDER** for clustering"
   ]
  },
  {
   "cell_type": "code",
   "execution_count": 3,
   "metadata": {},
   "outputs": [
    {
     "name": "stderr",
     "output_type": "stream",
     "text": [
      "2023-04-29 08:42:53 [INFO]: No given device, using default device: cpu\n",
      "2023-04-29 08:42:53 [INFO]: saving_path is set as tutorial_results/clustering/vader, the trained model will be saved to tutorial_results/clustering/vader/20230429_T084253, the tensorboard file will be saved to tutorial_results/clustering/vader/20230429_T084253/tensorboard\n",
      "2023-04-29 08:42:53 [INFO]: Model initialized successfully with the number of trainable parameters: 293642\n"
     ]
    }
   ],
   "source": [
    "from pypots.clustering import VaDER\n",
    "\n",
    "# initialize the model\n",
    "vader = VaDER(\n",
    "    n_steps=physionet2012_dataset[\"n_steps\"],\n",
    "    n_features=physionet2012_dataset[\"n_features\"],\n",
    "    n_clusters=physionet2012_dataset[\"n_classes\"],\n",
    "    rnn_hidden_size=128,\n",
    "    d_mu_stddev=2,\n",
    "    pretrain_epochs=20,\n",
    "    epochs=10,  # here we set epochs=10 for a quick demo, you can set it to 100 or more for better performance\n",
    "    patience=5,  # here we set patience=5 to early stop the training if the evaluting loss doesn't decrease for 5 epoches. You can leave it to defualt as None to disable early stopping.\n",
    "    learning_rate=5e-4,\n",
    "    # device='cpu', # just leave it to default, PyPOTS will automatically assign the best device for you.\n",
    "    # Set it to 'cpu' if you don't have CUDA devices. You can also set it to 'cuda:0' or 'cuda:1' if you have multiple CUDA devices.\n",
    "    saving_path=\"tutorial_results/clustering/vader\",  # set the path for saving tensorboard files\n",
    ")\n"
   ]
  },
  {
   "cell_type": "code",
   "execution_count": 4,
   "metadata": {},
   "outputs": [
    {
     "name": "stderr",
     "output_type": "stream",
     "text": [
      "2023-04-29 08:56:23 [INFO]: epoch 0: training loss 0.6338\n",
      "2023-04-29 08:57:24 [INFO]: epoch 1: training loss 0.3448\n",
      "2023-04-29 08:58:25 [INFO]: epoch 2: training loss 0.3530\n",
      "2023-04-29 08:59:27 [INFO]: epoch 3: training loss 0.3438\n",
      "2023-04-29 09:00:28 [INFO]: epoch 4: training loss 0.3452\n",
      "2023-04-29 09:01:29 [INFO]: epoch 5: training loss 0.3597\n",
      "2023-04-29 09:02:30 [INFO]: epoch 6: training loss 0.3517\n",
      "2023-04-29 09:03:30 [INFO]: epoch 7: training loss 0.3318\n",
      "2023-04-29 09:04:29 [INFO]: epoch 8: training loss 0.3248\n",
      "2023-04-29 09:05:29 [INFO]: epoch 9: training loss 0.3248\n",
      "2023-04-29 09:05:29 [INFO]: Finished training.\n",
      "2023-04-29 09:05:29 [INFO]: Saved successfully to tutorial_results/clustering/vader/20230429_T084253/VaDER.pypots.\n"
     ]
    }
   ],
   "source": [
    "# train the model on the training set, and validate it on the validating set to select the best model for testing in the next step\n",
    "vader.fit(train_set=dataset_for_training)\n"
   ]
  },
  {
   "cell_type": "code",
   "execution_count": null,
   "metadata": {},
   "outputs": [],
   "source": [
    "# the testing stage, impute the originally-missing values and artificially-missing values in the test set\n",
    "vader_prediction = vader.cluster(dataset_for_testing)"
   ]
  },
  {
   "cell_type": "code",
   "execution_count": 6,
   "metadata": {},
   "outputs": [
    {
     "name": "stdout",
     "output_type": "stream",
     "text": [
      "Testing clustering metrics: \n",
      "RI: 0.766797390260205, \n",
      "CP: 0.8653044203502919,\n",
      "\n"
     ]
    }
   ],
   "source": [
    "from pypots.utils.metrics import cal_rand_index, cal_cluster_purity\n",
    "\n",
    "# calculate mean absolute error on the ground truth (artificially-missing values)\n",
    "RI = cal_rand_index(vader_prediction, dataset_for_testing[\"y\"])\n",
    "CP = cal_cluster_purity(vader_prediction, dataset_for_testing[\"y\"])\n",
    "\n",
    "print(\"Testing clustering metrics: \\n\"\n",
    "      f'RI: {RI}, \\n'\n",
    "      f'CP: {CP},\\n'\n",
    "      )\n"
   ]
  }
 ],
 "metadata": {
  "kernelspec": {
   "display_name": "pypots-dev",
   "language": "python",
   "name": "python3"
  },
  "language_info": {
   "codemirror_mode": {
    "name": "ipython",
    "version": 3
   },
   "file_extension": ".py",
   "mimetype": "text/x-python",
   "name": "python",
   "nbconvert_exporter": "python",
   "pygments_lexer": "ipython3",
   "version": "3.10.10"
  },
  "orig_nbformat": 4
 },
 "nbformat": 4,
 "nbformat_minor": 2
}
