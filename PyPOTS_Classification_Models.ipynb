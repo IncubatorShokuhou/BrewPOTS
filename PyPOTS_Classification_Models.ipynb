{
 "cells": [
  {
   "attachments": {},
   "cell_type": "markdown",
   "metadata": {},
   "source": [
    "# 📑 Tutorials for PyPOTS Classification Models"
   ]
  },
  {
   "cell_type": "markdown",
   "metadata": {},
   "source": [
    "## 📀 Preparing the **PhysioNet-2012** dataset for this tutorial"
   ]
  },
  {
   "cell_type": "code",
   "execution_count": 1,
   "metadata": {},
   "outputs": [
    {
     "name": "stderr",
     "output_type": "stream",
     "text": [
      "2023-04-27 09:09:11 [INFO]: Loading the dataset physionet_2012 with TSDB (https://github.com/WenjieDu/Time_Series_Database)...\n",
      "2023-04-27 09:09:11 [INFO]: Starting preprocessing physionet_2012...\n"
     ]
    },
    {
     "name": "stdout",
     "output_type": "stream",
     "text": [
      "Dataset physionet_2012 has already been downloaded. Processing directly...\n",
      "Dataset physionet_2012 has already been cached. Loading from cache directly...\n",
      "Loaded successfully!\n",
      "dict_keys(['n_classes', 'n_steps', 'n_features', 'train_X', 'train_y', 'val_X', 'val_y', 'test_X', 'test_y', 'scaler'])\n"
     ]
    }
   ],
   "source": [
    "from pypots.data.generating import gene_physionet2012\n",
    "\n",
    "# Load the PhysioNet-2012 dataset, disable artificially-missing values for evaluation\n",
    "physionet2012_dataset = gene_physionet2012(artificially_missing=False)\n",
    " \n",
    "# Take a look at the generated PhysioNet-2012 dataset, you'll find that everything has been prepared for you, \n",
    "# data splitting, normalization, additional artificially-missing values for evaluation, etc.\n",
    "print(physionet2012_dataset.keys())"
   ]
  },
  {
   "cell_type": "code",
   "execution_count": 2,
   "metadata": {},
   "outputs": [],
   "source": [
    "# Assemble the datasets for training, validating, and testing.\n",
    "\n",
    "dataset_for_training = {\n",
    "    \"X\": physionet2012_dataset['train_X'],\n",
    "    \"y\": physionet2012_dataset['train_y'],\n",
    "}\n",
    "\n",
    "dataset_for_validating = {\n",
    "    \"X\": physionet2012_dataset['val_X'],\n",
    "    \"y\": physionet2012_dataset['val_y'],\n",
    "}\n",
    "\n",
    "dataset_for_testing = {\n",
    "    \"X\": physionet2012_dataset['test_X'],\n",
    "    \"y\": physionet2012_dataset['test_y'],\n",
    "}"
   ]
  },
  {
   "attachments": {},
   "cell_type": "markdown",
   "metadata": {},
   "source": [
    "## 🚀 An exmaple of **Raindrop** for classification"
   ]
  },
  {
   "cell_type": "code",
   "execution_count": 3,
   "metadata": {},
   "outputs": [
    {
     "name": "stderr",
     "output_type": "stream",
     "text": [
      "2023-04-27 09:09:42 [INFO]: No given device, using default device: cpu\n",
      "2023-04-27 09:09:42 [INFO]: saving_path is set as tutorial_results/classification/raindrop, the trained model will be saved to tutorial_results/classification/raindrop/20230427_T090942, the tensorboard file will be saved to tutorial_results/classification/raindrop/20230427_T090942/tensorboard\n",
      "2023-04-27 09:09:42 [INFO]: Model initialized successfully with the number of trainable parameters: 1415006\n"
     ]
    }
   ],
   "source": [
    "from pypots.classification import Raindrop\n",
    "\n",
    "# initialize the model\n",
    "raindrop = Raindrop(\n",
    "    max_len=physionet2012_dataset['n_steps'], \n",
    "    n_features=physionet2012_dataset['n_features'], \n",
    "    n_layers=2,\n",
    "    d_model=physionet2012_dataset[\"n_features\"] * 4,\n",
    "    d_inner=256,\n",
    "    n_heads=2,\n",
    "    dropout=0.3,\n",
    "    n_classes=physionet2012_dataset[\"n_classes\"],\n",
    "    d_static=0,\n",
    "    aggregation=\"mean\",\n",
    "    sensor_wise_mask=False,\n",
    "    static=False,\n",
    "    epochs=10, # here we set epochs=10 for a quick demo, you can set it to 100 or more for better performance\n",
    "    patience=None, # here we set patience=5 to early stop the training if the evaluting loss doesn't decrease for 5 epoches. You can leave it to defualt as None to disable early stopping.\n",
    "    learning_rate=1e-3,\n",
    "    # device='cpu', # just leave it to default, PyPOTS will automatically assign the best device for you. \n",
    "                    # Set it to 'cpu' if you don't have CUDA devices. You can also set it to 'cuda:0' or 'cuda:1' if you have multiple CUDA devices.\n",
    "    saving_path=\"tutorial_results/classification/raindrop\", # set the path for saving tensorboard files\n",
    ")"
   ]
  },
  {
   "cell_type": "code",
   "execution_count": 4,
   "metadata": {},
   "outputs": [
    {
     "name": "stderr",
     "output_type": "stream",
     "text": [
      "2023-04-27 09:10:57 [INFO]: epoch 0: training loss 0.3843, validating loss 0.3748\n",
      "2023-04-27 09:12:02 [INFO]: epoch 1: training loss 0.3273, validating loss 0.3460\n",
      "2023-04-27 09:13:06 [INFO]: epoch 2: training loss 0.3162, validating loss 0.3311\n",
      "2023-04-27 09:14:12 [INFO]: epoch 3: training loss 0.3064, validating loss 0.3287\n",
      "2023-04-27 09:15:20 [INFO]: epoch 4: training loss 0.3050, validating loss 0.3198\n",
      "2023-04-27 09:16:29 [INFO]: epoch 5: training loss 0.2974, validating loss 0.3392\n",
      "2023-04-27 09:17:58 [INFO]: epoch 6: training loss 0.2864, validating loss 0.3195\n",
      "2023-04-27 09:20:04 [INFO]: epoch 7: training loss 0.2851, validating loss 0.3172\n",
      "2023-04-27 09:22:41 [INFO]: epoch 8: training loss 0.2816, validating loss 0.3263\n",
      "2023-04-27 09:26:10 [INFO]: epoch 9: training loss 0.2756, validating loss 0.3463\n",
      "2023-04-27 09:26:10 [INFO]: Finished training.\n",
      "2023-04-27 09:26:10 [INFO]: Saved successfully to tutorial_results/classification/raindrop/20230427_T090942/Raindrop.pypots.\n"
     ]
    }
   ],
   "source": [
    "# train the model on the training set, and validate it on the validating set to select the best model for testing in the next step\n",
    "raindrop.fit(train_set=dataset_for_training, val_set=dataset_for_validating)"
   ]
  },
  {
   "cell_type": "code",
   "execution_count": 5,
   "metadata": {},
   "outputs": [],
   "source": [
    "# the testing stage, impute the originally-missing values and artificially-missing values in the test set\n",
    "raindrop_prediction = raindrop.classify(dataset_for_testing)"
   ]
  },
  {
   "cell_type": "code",
   "execution_count": 7,
   "metadata": {},
   "outputs": [
    {
     "name": "stdout",
     "output_type": "stream",
     "text": [
      "Testing classification metrics: \n",
      "ROC_AUC: 0.8370269768822591, \n",
      "PR_AUC: 0.4878470339452396,\n",
      "F1: 0.4178498985801217,\n",
      "Precision: 0.6130952380952381,\n",
      "Recall: 0.3169230769230769,\n",
      "\n"
     ]
    }
   ],
   "source": [
    "from pypots.utils.metrics import cal_binary_classification_metrics\n",
    "\n",
    "# calculate mean absolute error on the ground truth (artificially-missing values)\n",
    "metrics = cal_binary_classification_metrics(raindrop_prediction, dataset_for_testing[\"y\"])\n",
    "print(\"Testing classification metrics: \\n\"\n",
    "    f'ROC_AUC: {metrics[\"roc_auc\"]}, \\n'\n",
    "    f'PR_AUC: {metrics[\"pr_auc\"]},\\n'\n",
    "    f'F1: {metrics[\"f1\"]},\\n'\n",
    "    f'Precision: {metrics[\"precision\"]},\\n'\n",
    "    f'Recall: {metrics[\"recall\"]},\\n'\n",
    ")"
   ]
  },
  {
   "attachments": {},
   "cell_type": "markdown",
   "metadata": {},
   "source": [
    "## 🚀 An exmaple of **BRITS** for classification"
   ]
  },
  {
   "cell_type": "code",
   "execution_count": 8,
   "metadata": {},
   "outputs": [
    {
     "name": "stderr",
     "output_type": "stream",
     "text": [
      "2023-04-27 09:27:00 [INFO]: No given device, using default device: cpu\n",
      "2023-04-27 09:27:00 [INFO]: saving_path is set as tutorial_results/classification/brits, the trained model will be saved to tutorial_results/classification/brits/20230427_T092700, the tensorboard file will be saved to tutorial_results/classification/brits/20230427_T092700/tensorboard\n",
      "2023-04-27 09:27:00 [INFO]: Model initialized successfully with the number of trainable parameters: 730612\n"
     ]
    }
   ],
   "source": [
    "from pypots.classification import BRITS\n",
    "\n",
    "# initialize the model\n",
    "brits = BRITS(\n",
    "    n_steps=physionet2012_dataset['n_steps'], \n",
    "    n_features=physionet2012_dataset['n_features'], \n",
    "    n_classes=physionet2012_dataset[\"n_classes\"],\n",
    "    rnn_hidden_size=256,\n",
    "    epochs=20, # here we set epochs=10 for a quick demo, you can set it to 100 or more for better performance\n",
    "    patience=5, # here we set patience=5 to early stop the training if the evaluting loss doesn't decrease for 5 epoches. You can leave it to defualt as None to disable early stopping.\n",
    "    learning_rate=5e-4,\n",
    "    # device='cpu', # just leave it to default, PyPOTS will automatically assign the best device for you. \n",
    "                    # Set it to 'cpu' if you don't have CUDA devices. You can also set it to 'cuda:0' or 'cuda:1' if you have multiple CUDA devices.\n",
    "    saving_path=\"tutorial_results/classification/brits\", # set the path for saving tensorboard files\n",
    ")"
   ]
  },
  {
   "cell_type": "code",
   "execution_count": 9,
   "metadata": {},
   "outputs": [
    {
     "name": "stderr",
     "output_type": "stream",
     "text": [
      "2023-04-27 09:28:18 [INFO]: epoch 0: training loss 0.9414, validating loss 0.8397\n",
      "2023-04-27 09:29:18 [INFO]: epoch 1: training loss 0.7946, validating loss 0.7832\n",
      "2023-04-27 09:30:17 [INFO]: epoch 2: training loss 0.7424, validating loss 0.7488\n",
      "2023-04-27 09:31:20 [INFO]: epoch 3: training loss 0.7138, validating loss 0.7547\n",
      "2023-04-27 09:32:20 [INFO]: epoch 4: training loss 0.7034, validating loss 0.7444\n",
      "2023-04-27 09:33:19 [INFO]: epoch 5: training loss 0.6834, validating loss 0.7223\n",
      "2023-04-27 09:34:30 [INFO]: epoch 6: training loss 0.6700, validating loss 0.7183\n",
      "2023-04-27 09:35:33 [INFO]: epoch 7: training loss 0.6597, validating loss 0.7094\n",
      "2023-04-27 09:36:37 [INFO]: epoch 8: training loss 0.6434, validating loss 0.7195\n",
      "2023-04-27 09:37:39 [INFO]: epoch 9: training loss 0.6345, validating loss 0.7311\n",
      "2023-04-27 09:38:42 [INFO]: epoch 10: training loss 0.6269, validating loss 0.7379\n",
      "2023-04-27 09:39:46 [INFO]: epoch 11: training loss 0.6145, validating loss 0.7371\n",
      "2023-04-27 09:40:48 [INFO]: epoch 12: training loss 0.5964, validating loss 0.7348\n",
      "2023-04-27 09:40:48 [INFO]: Exceeded the training patience. Terminating the training procedure...\n",
      "2023-04-27 09:40:48 [INFO]: Finished training.\n",
      "2023-04-27 09:40:48 [INFO]: Saved successfully to tutorial_results/classification/brits/20230427_T092700/BRITS.pypots.\n"
     ]
    }
   ],
   "source": [
    "# train the model on the training set, and validate it on the validating set to select the best model for testing in the next step\n",
    "brits.fit(train_set=dataset_for_training, val_set=dataset_for_validating)"
   ]
  },
  {
   "cell_type": "code",
   "execution_count": 10,
   "metadata": {},
   "outputs": [],
   "source": [
    "# the testing stage, impute the originally-missing values and artificially-missing values in the test set\n",
    "brits_prediction = brits.classify(dataset_for_testing)"
   ]
  },
  {
   "cell_type": "code",
   "execution_count": 11,
   "metadata": {},
   "outputs": [
    {
     "name": "stdout",
     "output_type": "stream",
     "text": [
      "Testing classification metrics: \n",
      "ROC_AUC: 0.8205840661991168, \n",
      "PR_AUC: 0.45822567906407086,\n",
      "F1: 0.3167848699763594,\n",
      "Precision: 0.6836734693877551,\n",
      "Recall: 0.20615384615384616,\n",
      "\n"
     ]
    }
   ],
   "source": [
    "from pypots.utils.metrics import cal_binary_classification_metrics\n",
    "\n",
    "# calculate mean absolute error on the ground truth (artificially-missing values)\n",
    "\n",
    "metrics = cal_binary_classification_metrics(brits_prediction, dataset_for_testing[\"y\"])\n",
    "print(\"Testing classification metrics: \\n\"\n",
    "    f'ROC_AUC: {metrics[\"roc_auc\"]}, \\n'\n",
    "    f'PR_AUC: {metrics[\"pr_auc\"]},\\n'\n",
    "    f'F1: {metrics[\"f1\"]},\\n'\n",
    "    f'Precision: {metrics[\"precision\"]},\\n'\n",
    "    f'Recall: {metrics[\"recall\"]},\\n'\n",
    ")"
   ]
  },
  {
   "attachments": {},
   "cell_type": "markdown",
   "metadata": {},
   "source": [
    "## 🚀 An exmaple of **GRUD** for classification"
   ]
  },
  {
   "cell_type": "code",
   "execution_count": 12,
   "metadata": {},
   "outputs": [
    {
     "name": "stderr",
     "output_type": "stream",
     "text": [
      "2023-04-27 09:41:01 [INFO]: No given device, using default device: cpu\n",
      "2023-04-27 09:41:01 [INFO]: saving_path is set as tutorial_results/classification/grud, the trained model will be saved to tutorial_results/classification/grud/20230427_T094101, the tensorboard file will be saved to tutorial_results/classification/grud/20230427_T094101/tensorboard\n",
      "2023-04-27 09:41:01 [INFO]: Model initialized successfully with the number of trainable parameters: 463232\n"
     ]
    }
   ],
   "source": [
    "from pypots.classification import GRUD\n",
    "\n",
    "# initialize the model\n",
    "grud = GRUD(\n",
    "    n_steps=physionet2012_dataset['n_steps'], \n",
    "    n_features=physionet2012_dataset['n_features'], \n",
    "    n_classes=physionet2012_dataset[\"n_classes\"],\n",
    "    rnn_hidden_size=256, \n",
    "    epochs=10, # here we set epochs=10 for a quick demo, you can set it to 100 or more for better performance\n",
    "    patience=5, # here we set patience=5 to early stop the training if the evaluting loss doesn't decrease for 5 epoches. You can leave it to defualt as None to disable early stopping.\n",
    "    learning_rate=1e-3,\n",
    "    # device='cpu', # just leave it to default, PyPOTS will automatically assign the best device for you. \n",
    "                    # Set it to 'cpu' if you don't have CUDA devices. You can also set it to 'cuda:0' or 'cuda:1' if you have multiple CUDA devices.\n",
    "    saving_path=\"tutorial_results/classification/grud\", # set the path for saving tensorboard files\n",
    ")"
   ]
  },
  {
   "cell_type": "code",
   "execution_count": 13,
   "metadata": {},
   "outputs": [
    {
     "name": "stderr",
     "output_type": "stream",
     "text": [
      "2023-04-27 09:41:34 [INFO]: epoch 0: training loss 0.3574, validating loss 0.3707\n",
      "2023-04-27 09:41:56 [INFO]: epoch 1: training loss 0.3221, validating loss 0.3481\n",
      "2023-04-27 09:42:18 [INFO]: epoch 2: training loss 0.3047, validating loss 0.3362\n",
      "2023-04-27 09:42:41 [INFO]: epoch 3: training loss 0.2947, validating loss 0.3414\n",
      "2023-04-27 09:43:04 [INFO]: epoch 4: training loss 0.2832, validating loss 0.3445\n",
      "2023-04-27 09:43:30 [INFO]: epoch 5: training loss 0.2742, validating loss 0.3366\n",
      "2023-04-27 09:44:02 [INFO]: epoch 6: training loss 0.2596, validating loss 0.3328\n",
      "2023-04-27 09:44:32 [INFO]: epoch 7: training loss 0.2439, validating loss 0.3493\n",
      "2023-04-27 09:45:02 [INFO]: epoch 8: training loss 0.2173, validating loss 0.3713\n",
      "2023-04-27 09:45:33 [INFO]: epoch 9: training loss 0.1986, validating loss 0.3954\n",
      "2023-04-27 09:45:33 [INFO]: Finished training.\n",
      "2023-04-27 09:45:33 [INFO]: Saved successfully to tutorial_results/classification/grud/20230427_T094101/GRUD.pypots.\n"
     ]
    }
   ],
   "source": [
    "# train the model on the training set, and validate it on the validating set to select the best model for testing in the next step\n",
    "grud.fit(train_set=dataset_for_training, val_set=dataset_for_validating)"
   ]
  },
  {
   "cell_type": "code",
   "execution_count": 14,
   "metadata": {},
   "outputs": [],
   "source": [
    "# the testing stage, impute the originally-missing values and artificially-missing values in the test set\n",
    "grud_prediction = grud.classify(dataset_for_testing)"
   ]
  },
  {
   "cell_type": "code",
   "execution_count": 15,
   "metadata": {},
   "outputs": [
    {
     "name": "stdout",
     "output_type": "stream",
     "text": [
      "Testing classification metrics: \n",
      "ROC_AUC: 0.7564970870904301, \n",
      "PR_AUC: 0.312294925131615,\n",
      "F1: 0.3180212014134276,\n",
      "Precision: 0.37344398340248963,\n",
      "Recall: 0.27692307692307694,\n",
      "\n"
     ]
    }
   ],
   "source": [
    "from pypots.utils.metrics import cal_binary_classification_metrics\n",
    "\n",
    "# calculate mean absolute error on the ground truth (artificially-missing values)\n",
    "\n",
    "metrics = cal_binary_classification_metrics(grud_prediction, dataset_for_testing[\"y\"])\n",
    "print(\"Testing classification metrics: \\n\"\n",
    "    f'ROC_AUC: {metrics[\"roc_auc\"]}, \\n'\n",
    "    f'PR_AUC: {metrics[\"pr_auc\"]},\\n'\n",
    "    f'F1: {metrics[\"f1\"]},\\n'\n",
    "    f'Precision: {metrics[\"precision\"]},\\n'\n",
    "    f'Recall: {metrics[\"recall\"]},\\n'\n",
    ")"
   ]
  }
 ],
 "metadata": {
  "kernelspec": {
   "display_name": "pypots-dev",
   "language": "python",
   "name": "python3"
  },
  "language_info": {
   "codemirror_mode": {
    "name": "ipython",
    "version": 3
   },
   "file_extension": ".py",
   "mimetype": "text/x-python",
   "name": "python",
   "nbconvert_exporter": "python",
   "pygments_lexer": "ipython3",
   "version": "3.10.10"
  },
  "orig_nbformat": 4
 },
 "nbformat": 4,
 "nbformat_minor": 2
}
