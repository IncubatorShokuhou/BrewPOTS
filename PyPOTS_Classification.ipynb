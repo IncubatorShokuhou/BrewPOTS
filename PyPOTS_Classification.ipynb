{
 "cells": [
  {
   "cell_type": "markdown",
   "metadata": {},
   "source": [
    "# 📑 Tutorials for PyPOTS Classification Models"
   ]
  },
  {
   "cell_type": "markdown",
   "metadata": {},
   "source": [
    "## 📀 Preparing the **PhysioNet-2012** dataset for this tutorial"
   ]
  },
  {
   "cell_type": "code",
   "execution_count": 1,
   "metadata": {},
   "outputs": [
    {
     "name": "stderr",
     "output_type": "stream",
     "text": [
      "/opt/homebrew/anaconda3/envs/ml/lib/python3.9/site-packages/tqdm/auto.py:22: TqdmWarning: IProgress not found. Please update jupyter and ipywidgets. See https://ipywidgets.readthedocs.io/en/stable/user_install.html\n",
      "  from .autonotebook import tqdm as notebook_tqdm\n",
      "2023-05-16 23:57:08 [INFO]: Loading the dataset physionet_2012 with TSDB (https://github.com/WenjieDu/Time_Series_Database)...\n",
      "2023-05-16 23:57:08 [INFO]: Starting preprocessing physionet_2012...\n"
     ]
    },
    {
     "name": "stdout",
     "output_type": "stream",
     "text": [
      "Dataset physionet_2012 has already been downloaded. Processing directly...\n",
      "Dataset physionet_2012 has already been cached. Loading from cache directly...\n",
      "Loaded successfully!\n",
      "dict_keys(['n_classes', 'n_steps', 'n_features', 'train_X', 'train_y', 'val_X', 'val_y', 'test_X', 'test_y', 'scaler', 'test_X_intact', 'test_X_indicating_mask', 'val_X_intact', 'val_X_indicating_mask'])\n"
     ]
    }
   ],
   "source": [
    "from pypots.data.generating import gene_physionet2012\n",
    "from pypots.utils.random import set_random_seed\n",
    "from global_config import RANDOM_SEED\n",
    "\n",
    "set_random_seed(RANDOM_SEED)\n",
    "\n",
    "# Load the PhysioNet-2012 dataset, disable artificially-missing values for evaluation\n",
    "physionet2012_dataset = gene_physionet2012(artificially_missing_rate=0.1)\n",
    " \n",
    "# Take a look at the generated PhysioNet-2012 dataset, you'll find that everything has been prepared for you, \n",
    "# data splitting, normalization, additional artificially-missing values for evaluation, etc.\n",
    "print(physionet2012_dataset.keys())"
   ]
  },
  {
   "cell_type": "code",
   "execution_count": 2,
   "metadata": {},
   "outputs": [],
   "source": [
    "# Assemble the datasets for training, validating, and testing.\n",
    "\n",
    "dataset_for_training = {\n",
    "    \"X\": physionet2012_dataset['train_X'],\n",
    "    \"y\": physionet2012_dataset['train_y'],\n",
    "}\n",
    "\n",
    "dataset_for_validating = {\n",
    "    \"X\": physionet2012_dataset['val_X'],\n",
    "    \"y\": physionet2012_dataset['val_y'],\n",
    "}\n",
    "\n",
    "dataset_for_testing = {\n",
    "    \"X\": physionet2012_dataset['test_X'],\n",
    "    \"y\": physionet2012_dataset['test_y'],\n",
    "}"
   ]
  },
  {
   "cell_type": "markdown",
   "metadata": {},
   "source": [
    "## 🚀 An exmaple of **Raindrop** for classification"
   ]
  },
  {
   "cell_type": "code",
   "execution_count": 3,
   "metadata": {},
   "outputs": [
    {
     "name": "stderr",
     "output_type": "stream",
     "text": [
      "2023-05-16 23:57:19 [INFO]: the trained model will be saved to tutorial_results/classification/raindrop/20230516_T235719\n",
      "2023-05-16 23:57:19 [INFO]: the tensorboard file will be saved to tutorial_results/classification/raindrop/20230516_T235719/tensorboard\n",
      "2023-05-16 23:57:19 [INFO]: Model initialized successfully with the number of trainable parameters: 1,415,006\n"
     ]
    }
   ],
   "source": [
    "from pypots.optim import Adam\n",
    "from pypots.classification import Raindrop\n",
    "\n",
    "# initialize the model\n",
    "raindrop = Raindrop(\n",
    "    n_steps=physionet2012_dataset['n_steps'],\n",
    "    n_features=physionet2012_dataset['n_features'],\n",
    "    n_classes=physionet2012_dataset[\"n_classes\"],\n",
    "    n_layers=2,\n",
    "    d_model=physionet2012_dataset[\"n_features\"] * 4,\n",
    "    d_inner=256,\n",
    "    n_heads=2,\n",
    "    dropout=0.3,\n",
    "    batch_size=32,\n",
    "    # here we set epochs=10 for a quick demo, you can set it to 100 or more for better performance\n",
    "    epochs=10,\n",
    "    # here we set patience=3 to early stop the training if the evaluting loss doesn't decrease for 3 epoches.\n",
    "    # You can leave it to defualt as None to disable early stopping.\n",
    "    patience=3,\n",
    "    # give the optimizer. Different from torch.optim.Optimizer, you don't have to specify model's parameters when\n",
    "    # initializing pypots.optim.Optimizer. You can also leave it to default. It will initilize an Adam optimizer with lr=0.001.\n",
    "    optimizer=Adam(lr=1e-3),\n",
    "    # this num_workers argument is for torch.utils.data.Dataloader. It's the number of subprocesses to use for data loading.\n",
    "    # Leaving it to default as 0 means data loading will be in the main process, i.e. there won't be subprocesses.\n",
    "    # You can increase it to >1 if you think your dataloading is a bottleneck to your model training speed\n",
    "    num_workers=0,\n",
    "    # just leave it to default, PyPOTS will automatically assign the best device for you.\n",
    "    # Set it to 'cpu' if you don't have CUDA devices. You can also set it to 'cuda:0' or 'cuda:1' if you have multiple CUDA devices.\n",
    "    device='cpu',  \n",
    "    # set the path for saving tensorboard and trained model files \n",
    "    saving_path=\"tutorial_results/classification/raindrop\",\n",
    "    model_saving_strategy=\"best\", # only save the best model after training finished. \n",
    "                                  # You can also set it as \"better\" to save models performing better ever during training.\n",
    ")"
   ]
  },
  {
   "cell_type": "code",
   "execution_count": 4,
   "metadata": {},
   "outputs": [
    {
     "name": "stderr",
     "output_type": "stream",
     "text": [
      "2023-05-16 23:58:09 [INFO]: epoch 0: training loss 0.4002, validating loss 0.3761\n",
      "2023-05-16 23:58:56 [INFO]: epoch 1: training loss 0.3380, validating loss 0.3567\n",
      "2023-05-16 23:59:42 [INFO]: epoch 2: training loss 0.3210, validating loss 0.3763\n",
      "2023-05-17 00:00:30 [INFO]: epoch 3: training loss 0.3118, validating loss 0.3575\n",
      "2023-05-17 00:01:17 [INFO]: epoch 4: training loss 0.3081, validating loss 0.3604\n",
      "2023-05-17 00:01:17 [INFO]: Exceeded the training patience. Terminating the training procedure...\n",
      "2023-05-17 00:01:17 [INFO]: Finished training.\n",
      "2023-05-17 00:01:17 [INFO]: Saved the model to tutorial_results/classification/raindrop/20230516_T235719/Raindrop.pypots.\n"
     ]
    }
   ],
   "source": [
    "# train the model on the training set, and validate it on the validating set to select the best model for testing in the next step\n",
    "raindrop.fit(train_set=dataset_for_training, val_set=dataset_for_validating)"
   ]
  },
  {
   "cell_type": "code",
   "execution_count": 5,
   "metadata": {},
   "outputs": [],
   "source": [
    "# the testing stage, impute the originally-missing values and artificially-missing values in the test set\n",
    "raindrop_prediction = raindrop.classify(dataset_for_testing)"
   ]
  },
  {
   "cell_type": "code",
   "execution_count": 6,
   "metadata": {},
   "outputs": [
    {
     "name": "stdout",
     "output_type": "stream",
     "text": [
      "Testing classification metrics: \n",
      "ROC_AUC: 0.8254049013391027, \n",
      "PR_AUC: 0.45063928834235356,\n",
      "F1: 0.2766990291262136,\n",
      "Precision: 0.6404494382022472,\n",
      "Recall: 0.17647058823529413,\n"
     ]
    }
   ],
   "source": [
    "from pypots.utils.metrics import cal_binary_classification_metrics\n",
    "\n",
    "# calculate mean absolute error on the ground truth (artificially-missing values)\n",
    "metrics = cal_binary_classification_metrics(raindrop_prediction, dataset_for_testing[\"y\"])\n",
    "print(\"Testing classification metrics: \\n\"\n",
    "    f'ROC_AUC: {metrics[\"roc_auc\"]}, \\n'\n",
    "    f'PR_AUC: {metrics[\"pr_auc\"]},\\n'\n",
    "    f'F1: {metrics[\"f1\"]},\\n'\n",
    "    f'Precision: {metrics[\"precision\"]},\\n'\n",
    "    f'Recall: {metrics[\"recall\"]},\\n'\n",
    ")"
   ]
  },
  {
   "cell_type": "markdown",
   "metadata": {},
   "source": [
    "## 🚀 An exmaple of **BRITS** for classification"
   ]
  },
  {
   "cell_type": "code",
   "execution_count": 7,
   "metadata": {},
   "outputs": [
    {
     "name": "stderr",
     "output_type": "stream",
     "text": [
      "2023-05-17 00:01:24 [INFO]: the trained model will be saved to tutorial_results/classification/brits/20230517_T000124\n",
      "2023-05-17 00:01:24 [INFO]: the tensorboard file will be saved to tutorial_results/classification/brits/20230517_T000124/tensorboard\n",
      "2023-05-17 00:01:24 [INFO]: Model initialized successfully with the number of trainable parameters: 730,612\n"
     ]
    }
   ],
   "source": [
    "from pypots.optim import Adam\n",
    "from pypots.classification import BRITS\n",
    "\n",
    "# initialize the model\n",
    "brits = BRITS(\n",
    "    n_steps=physionet2012_dataset['n_steps'], \n",
    "    n_features=physionet2012_dataset['n_features'], \n",
    "    n_classes=physionet2012_dataset[\"n_classes\"],\n",
    "    rnn_hidden_size=256,\n",
    "    batch_size=32,\n",
    "    # here we set epochs=10 for a quick demo, you can set it to 100 or more for better performance\n",
    "    epochs=10,\n",
    "    # here we set patience=3 to early stop the training if the evaluting loss doesn't decrease for 3 epoches.\n",
    "    # You can leave it to defualt as None to disable early stopping.\n",
    "    patience=3,\n",
    "    # give the optimizer. Different from torch.optim.Optimizer, you don't have to specify model's parameters when\n",
    "    # initializing pypots.optim.Optimizer. You can also leave it to default. It will initilize an Adam optimizer with lr=0.001.\n",
    "    optimizer=Adam(lr=1e-3),\n",
    "    # this num_workers argument is for torch.utils.data.Dataloader. It's the number of subprocesses to use for data loading.\n",
    "    # Leaving it to default as 0 means data loading will be in the main process, i.e. there won't be subprocesses.\n",
    "    # You can increase it to >1 if you think your dataloading is a bottleneck to your model training speed\n",
    "    num_workers=0,\n",
    "    # just leave it to default, PyPOTS will automatically assign the best device for you.\n",
    "    # Set it to 'cpu' if you don't have CUDA devices. You can also set it to 'cuda:0' or 'cuda:1' if you have multiple CUDA devices.\n",
    "    device='cpu',  \n",
    "    # set the path for saving tensorboard and trained model files \n",
    "    saving_path=\"tutorial_results/classification/brits\",\n",
    "    # only save the best model after training finished.\n",
    "    # You can also set it as \"better\" to save models performing better ever during training.\n",
    "    model_saving_strategy=\"best\",\n",
    ")"
   ]
  },
  {
   "cell_type": "code",
   "execution_count": 8,
   "metadata": {},
   "outputs": [
    {
     "name": "stderr",
     "output_type": "stream",
     "text": [
      "2023-05-17 00:02:18 [INFO]: epoch 0: training loss 0.9090, validating loss 0.8378\n",
      "2023-05-17 00:03:05 [INFO]: epoch 1: training loss 0.7656, validating loss 0.7810\n",
      "2023-05-17 00:03:53 [INFO]: epoch 2: training loss 0.7171, validating loss 0.7480\n",
      "2023-05-17 00:04:40 [INFO]: epoch 3: training loss 0.6937, validating loss 0.7508\n",
      "2023-05-17 00:05:26 [INFO]: epoch 4: training loss 0.6767, validating loss 0.7394\n",
      "2023-05-17 00:06:14 [INFO]: epoch 5: training loss 0.6641, validating loss 0.7442\n",
      "2023-05-17 00:07:01 [INFO]: epoch 6: training loss 0.6520, validating loss 0.7427\n",
      "2023-05-17 00:07:48 [INFO]: epoch 7: training loss 0.6334, validating loss 0.7613\n",
      "2023-05-17 00:07:48 [INFO]: Exceeded the training patience. Terminating the training procedure...\n",
      "2023-05-17 00:07:48 [INFO]: Finished training.\n",
      "2023-05-17 00:07:48 [INFO]: Saved the model to tutorial_results/classification/brits/20230517_T000124/BRITS.pypots.\n"
     ]
    }
   ],
   "source": [
    "# train the model on the training set, and validate it on the validating set to select the best model for testing in the next step\n",
    "brits.fit(train_set=dataset_for_training, val_set=dataset_for_validating)"
   ]
  },
  {
   "cell_type": "code",
   "execution_count": 9,
   "metadata": {},
   "outputs": [],
   "source": [
    "# the testing stage, impute the originally-missing values and artificially-missing values in the test set\n",
    "brits_prediction = brits.classify(dataset_for_testing)"
   ]
  },
  {
   "cell_type": "code",
   "execution_count": 10,
   "metadata": {},
   "outputs": [
    {
     "name": "stdout",
     "output_type": "stream",
     "text": [
      "Testing classification metrics: \n",
      "ROC_AUC: 0.8314685366854413, \n",
      "PR_AUC: 0.45516800127428686,\n",
      "F1: 0.1904761904761905,\n",
      "Precision: 0.6545454545454545,\n",
      "Recall: 0.11145510835913312,\n"
     ]
    }
   ],
   "source": [
    "from pypots.utils.metrics import cal_binary_classification_metrics\n",
    "\n",
    "# calculate mean absolute error on the ground truth (artificially-missing values)\n",
    "\n",
    "metrics = cal_binary_classification_metrics(brits_prediction, dataset_for_testing[\"y\"])\n",
    "print(\"Testing classification metrics: \\n\"\n",
    "    f'ROC_AUC: {metrics[\"roc_auc\"]}, \\n'\n",
    "    f'PR_AUC: {metrics[\"pr_auc\"]},\\n'\n",
    "    f'F1: {metrics[\"f1\"]},\\n'\n",
    "    f'Precision: {metrics[\"precision\"]},\\n'\n",
    "    f'Recall: {metrics[\"recall\"]},\\n'\n",
    ")"
   ]
  },
  {
   "cell_type": "markdown",
   "metadata": {},
   "source": [
    "## 🚀 An exmaple of **GRUD** for classification"
   ]
  },
  {
   "cell_type": "code",
   "execution_count": 11,
   "metadata": {},
   "outputs": [
    {
     "name": "stderr",
     "output_type": "stream",
     "text": [
      "2023-05-17 00:07:55 [INFO]: the trained model will be saved to tutorial_results/classification/grud/20230517_T000755\n",
      "2023-05-17 00:07:55 [INFO]: the tensorboard file will be saved to tutorial_results/classification/grud/20230517_T000755/tensorboard\n",
      "2023-05-17 00:07:55 [INFO]: Model initialized successfully with the number of trainable parameters: 16,128\n"
     ]
    }
   ],
   "source": [
    "from pypots.optim import Adam\n",
    "from pypots.classification import GRUD\n",
    "\n",
    "# initialize the model\n",
    "grud = GRUD(\n",
    "    n_steps=physionet2012_dataset['n_steps'], \n",
    "    n_features=physionet2012_dataset['n_features'], \n",
    "    n_classes=physionet2012_dataset[\"n_classes\"],\n",
    "    rnn_hidden_size=32, \n",
    "    batch_size=32,\n",
    "    # here we set epochs=10 for a quick demo, you can set it to 100 or more for better performance\n",
    "    epochs=10,\n",
    "    # here we set patience=3 to early stop the training if the evaluting loss doesn't decrease for 3 epoches.\n",
    "    # You can leave it to defualt as None to disable early stopping.\n",
    "    patience=3,\n",
    "    # give the optimizer. Different from torch.optim.Optimizer, you don't have to specify model's parameters when\n",
    "    # initializing pypots.optim.Optimizer. You can also leave it to default. It will initilize an Adam optimizer with lr=0.001.\n",
    "    optimizer=Adam(lr=1e-3),\n",
    "    # this num_workers argument is for torch.utils.data.Dataloader. It's the number of subprocesses to use for data loading.\n",
    "    # Leaving it to default as 0 means data loading will be in the main process, i.e. there won't be subprocesses.\n",
    "    # You can increase it to >1 if you think your dataloading is a bottleneck to your model training speed\n",
    "    num_workers=0,\n",
    "    # just leave it to default, PyPOTS will automatically assign the best device for you.\n",
    "    # Set it to 'cpu' if you don't have CUDA devices. You can also set it to 'cuda:0' or 'cuda:1' if you have multiple CUDA devices.\n",
    "    device='cpu',  \n",
    "    # set the path for saving tensorboard and trained model files \n",
    "    saving_path=\"tutorial_results/classification/grud\",\n",
    "    # only save the best model after training finished.\n",
    "    # You can also set it as \"better\" to save models performing better ever during training.\n",
    "    model_saving_strategy=\"best\",\n",
    ")"
   ]
  },
  {
   "cell_type": "code",
   "execution_count": 12,
   "metadata": {},
   "outputs": [
    {
     "name": "stderr",
     "output_type": "stream",
     "text": [
      "2023-05-17 00:08:03 [INFO]: epoch 0: training loss 0.3933, validating loss 0.4098\n",
      "2023-05-17 00:08:06 [INFO]: epoch 1: training loss 0.3361, validating loss 0.3488\n",
      "2023-05-17 00:08:10 [INFO]: epoch 2: training loss 0.3127, validating loss 0.3942\n",
      "2023-05-17 00:08:14 [INFO]: epoch 3: training loss 0.2996, validating loss 0.3758\n",
      "2023-05-17 00:08:18 [INFO]: epoch 4: training loss 0.2923, validating loss 0.4225\n",
      "2023-05-17 00:08:18 [INFO]: Exceeded the training patience. Terminating the training procedure...\n",
      "2023-05-17 00:08:18 [INFO]: Finished training.\n",
      "2023-05-17 00:08:18 [INFO]: Saved the model to tutorial_results/classification/grud/20230517_T000755/GRUD.pypots.\n"
     ]
    }
   ],
   "source": [
    "# train the model on the training set, and validate it on the validating set to select the best model for testing in the next step\n",
    "grud.fit(train_set=dataset_for_training, val_set=dataset_for_validating)"
   ]
  },
  {
   "cell_type": "code",
   "execution_count": 13,
   "metadata": {},
   "outputs": [],
   "source": [
    "# the testing stage, impute the originally-missing values and artificially-missing values in the test set\n",
    "grud_prediction = grud.classify(dataset_for_testing)"
   ]
  },
  {
   "cell_type": "code",
   "execution_count": 14,
   "metadata": {},
   "outputs": [
    {
     "name": "stdout",
     "output_type": "stream",
     "text": [
      "Testing classification metrics: \n",
      "ROC_AUC: 0.7703040023872582, \n",
      "PR_AUC: 0.42444960120448355,\n",
      "F1: 0.3355408388520972,\n",
      "Precision: 0.5846153846153846,\n",
      "Recall: 0.23529411764705882,\n"
     ]
    }
   ],
   "source": [
    "from pypots.utils.metrics import cal_binary_classification_metrics\n",
    "\n",
    "# calculate mean absolute error on the ground truth (artificially-missing values)\n",
    "\n",
    "metrics = cal_binary_classification_metrics(grud_prediction, dataset_for_testing[\"y\"])\n",
    "print(\"Testing classification metrics: \\n\"\n",
    "    f'ROC_AUC: {metrics[\"roc_auc\"]}, \\n'\n",
    "    f'PR_AUC: {metrics[\"pr_auc\"]},\\n'\n",
    "    f'F1: {metrics[\"f1\"]},\\n'\n",
    "    f'Precision: {metrics[\"precision\"]},\\n'\n",
    "    f'Recall: {metrics[\"recall\"]},\\n'\n",
    ")"
   ]
  }
 ],
 "metadata": {
  "kernelspec": {
   "display_name": "Python 3 (ipykernel)",
   "language": "python",
   "name": "python3"
  },
  "language_info": {
   "codemirror_mode": {
    "name": "ipython",
    "version": 3
   },
   "file_extension": ".py",
   "mimetype": "text/x-python",
   "name": "python",
   "nbconvert_exporter": "python",
   "pygments_lexer": "ipython3",
   "version": "3.9.13"
  }
 },
 "nbformat": 4,
 "nbformat_minor": 4
}
